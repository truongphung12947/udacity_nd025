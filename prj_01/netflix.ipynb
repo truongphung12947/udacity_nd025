{
 "cells": [
  {
   "cell_type": "markdown",
   "id": "f249aaba-ad7c-4e7d-beea-f65caf713c55",
   "metadata": {},
   "source": [
    "In order to understand and define bussiness questions for our dataset, we should explore some of its characteristics. First we need to load our csv files. This dataset contain 2 csv files for Movie Title and Actor/Director data from these movies. For further exploration we can use both these files to make a recommendation system base on the link between Movies and Actors but for now, let's just analyze the Move Title only."
   ]
  },
  {
   "cell_type": "code",
   "execution_count": 3,
   "id": "497e7582-426c-4c73-b7c2-a866dc718d9f",
   "metadata": {},
   "outputs": [
    {
     "data": {
      "text/html": [
       "<div>\n",
       "<style scoped>\n",
       "    .dataframe tbody tr th:only-of-type {\n",
       "        vertical-align: middle;\n",
       "    }\n",
       "\n",
       "    .dataframe tbody tr th {\n",
       "        vertical-align: top;\n",
       "    }\n",
       "\n",
       "    .dataframe thead th {\n",
       "        text-align: right;\n",
       "    }\n",
       "</style>\n",
       "<table border=\"1\" class=\"dataframe\">\n",
       "  <thead>\n",
       "    <tr style=\"text-align: right;\">\n",
       "      <th></th>\n",
       "      <th>id</th>\n",
       "      <th>title</th>\n",
       "      <th>type</th>\n",
       "      <th>description</th>\n",
       "      <th>release_year</th>\n",
       "      <th>age_certification</th>\n",
       "      <th>runtime</th>\n",
       "      <th>genres</th>\n",
       "      <th>production_countries</th>\n",
       "      <th>seasons</th>\n",
       "      <th>imdb_id</th>\n",
       "      <th>imdb_score</th>\n",
       "      <th>imdb_votes</th>\n",
       "      <th>tmdb_popularity</th>\n",
       "      <th>tmdb_score</th>\n",
       "    </tr>\n",
       "  </thead>\n",
       "  <tbody>\n",
       "    <tr>\n",
       "      <th>0</th>\n",
       "      <td>ts300399</td>\n",
       "      <td>Five Came Back: The Reference Films</td>\n",
       "      <td>SHOW</td>\n",
       "      <td>This collection includes 12 World War II-era p...</td>\n",
       "      <td>1945</td>\n",
       "      <td>TV-MA</td>\n",
       "      <td>48</td>\n",
       "      <td>['documentation']</td>\n",
       "      <td>['US']</td>\n",
       "      <td>1.0</td>\n",
       "      <td>NaN</td>\n",
       "      <td>NaN</td>\n",
       "      <td>NaN</td>\n",
       "      <td>0.600</td>\n",
       "      <td>NaN</td>\n",
       "    </tr>\n",
       "    <tr>\n",
       "      <th>1</th>\n",
       "      <td>tm84618</td>\n",
       "      <td>Taxi Driver</td>\n",
       "      <td>MOVIE</td>\n",
       "      <td>A mentally unstable Vietnam War veteran works ...</td>\n",
       "      <td>1976</td>\n",
       "      <td>R</td>\n",
       "      <td>113</td>\n",
       "      <td>['crime', 'drama']</td>\n",
       "      <td>['US']</td>\n",
       "      <td>NaN</td>\n",
       "      <td>tt0075314</td>\n",
       "      <td>8.3</td>\n",
       "      <td>795222.0</td>\n",
       "      <td>27.612</td>\n",
       "      <td>8.2</td>\n",
       "    </tr>\n",
       "    <tr>\n",
       "      <th>2</th>\n",
       "      <td>tm127384</td>\n",
       "      <td>Monty Python and the Holy Grail</td>\n",
       "      <td>MOVIE</td>\n",
       "      <td>King Arthur, accompanied by his squire, recrui...</td>\n",
       "      <td>1975</td>\n",
       "      <td>PG</td>\n",
       "      <td>91</td>\n",
       "      <td>['comedy', 'fantasy']</td>\n",
       "      <td>['GB']</td>\n",
       "      <td>NaN</td>\n",
       "      <td>tt0071853</td>\n",
       "      <td>8.2</td>\n",
       "      <td>530877.0</td>\n",
       "      <td>18.216</td>\n",
       "      <td>7.8</td>\n",
       "    </tr>\n",
       "    <tr>\n",
       "      <th>3</th>\n",
       "      <td>tm70993</td>\n",
       "      <td>Life of Brian</td>\n",
       "      <td>MOVIE</td>\n",
       "      <td>Brian Cohen is an average young Jewish man, bu...</td>\n",
       "      <td>1979</td>\n",
       "      <td>R</td>\n",
       "      <td>94</td>\n",
       "      <td>['comedy']</td>\n",
       "      <td>['GB']</td>\n",
       "      <td>NaN</td>\n",
       "      <td>tt0079470</td>\n",
       "      <td>8.0</td>\n",
       "      <td>392419.0</td>\n",
       "      <td>17.505</td>\n",
       "      <td>7.8</td>\n",
       "    </tr>\n",
       "    <tr>\n",
       "      <th>4</th>\n",
       "      <td>tm190788</td>\n",
       "      <td>The Exorcist</td>\n",
       "      <td>MOVIE</td>\n",
       "      <td>12-year-old Regan MacNeil begins to adapt an e...</td>\n",
       "      <td>1973</td>\n",
       "      <td>R</td>\n",
       "      <td>133</td>\n",
       "      <td>['horror']</td>\n",
       "      <td>['US']</td>\n",
       "      <td>NaN</td>\n",
       "      <td>tt0070047</td>\n",
       "      <td>8.1</td>\n",
       "      <td>391942.0</td>\n",
       "      <td>95.337</td>\n",
       "      <td>7.7</td>\n",
       "    </tr>\n",
       "  </tbody>\n",
       "</table>\n",
       "</div>"
      ],
      "text/plain": [
       "         id                                title   type  \\\n",
       "0  ts300399  Five Came Back: The Reference Films   SHOW   \n",
       "1   tm84618                          Taxi Driver  MOVIE   \n",
       "2  tm127384      Monty Python and the Holy Grail  MOVIE   \n",
       "3   tm70993                        Life of Brian  MOVIE   \n",
       "4  tm190788                         The Exorcist  MOVIE   \n",
       "\n",
       "                                         description  release_year  \\\n",
       "0  This collection includes 12 World War II-era p...          1945   \n",
       "1  A mentally unstable Vietnam War veteran works ...          1976   \n",
       "2  King Arthur, accompanied by his squire, recrui...          1975   \n",
       "3  Brian Cohen is an average young Jewish man, bu...          1979   \n",
       "4  12-year-old Regan MacNeil begins to adapt an e...          1973   \n",
       "\n",
       "  age_certification  runtime                 genres production_countries  \\\n",
       "0             TV-MA       48      ['documentation']               ['US']   \n",
       "1                 R      113     ['crime', 'drama']               ['US']   \n",
       "2                PG       91  ['comedy', 'fantasy']               ['GB']   \n",
       "3                 R       94             ['comedy']               ['GB']   \n",
       "4                 R      133             ['horror']               ['US']   \n",
       "\n",
       "   seasons    imdb_id  imdb_score  imdb_votes  tmdb_popularity  tmdb_score  \n",
       "0      1.0        NaN         NaN         NaN            0.600         NaN  \n",
       "1      NaN  tt0075314         8.3    795222.0           27.612         8.2  \n",
       "2      NaN  tt0071853         8.2    530877.0           18.216         7.8  \n",
       "3      NaN  tt0079470         8.0    392419.0           17.505         7.8  \n",
       "4      NaN  tt0070047         8.1    391942.0           95.337         7.7  "
      ]
     },
     "execution_count": 3,
     "metadata": {},
     "output_type": "execute_result"
    }
   ],
   "source": [
    "import numpy as np\n",
    "import pandas as pd\n",
    "import matplotlib.pyplot as plt\n",
    "%matplotlib inline\n",
    "\n",
    "df = pd.read_csv('./titles.csv')\n",
    "df.head()"
   ]
  },
  {
   "cell_type": "code",
   "execution_count": 6,
   "id": "1fd43eab-071e-4a6d-8007-459e34e46738",
   "metadata": {},
   "outputs": [
    {
     "name": "stdout",
     "output_type": "stream",
     "text": [
      "5806 15\n"
     ]
    }
   ],
   "source": [
    "rows = df.shape[0]\n",
    "columns = df.shape[1]\n",
    "print(rows, columns)"
   ]
  },
  {
   "cell_type": "markdown",
   "id": "96001af7-55c4-4344-aac1-e22b0d16f4ad",
   "metadata": {},
   "source": [
    "We have total 5806 rows and 15 columns of attributes. But not all our columns can be used to define questions, some unique columns such as id, title, description, imdb_id can only give us infor about that title but not the whole picture. For now let's just ignore them first."
   ]
  },
  {
   "cell_type": "code",
   "execution_count": 7,
   "id": "c5205ffe-2fae-412a-82c8-0b4646bbc02f",
   "metadata": {},
   "outputs": [
    {
     "name": "stdout",
     "output_type": "stream",
     "text": [
      "<class 'pandas.core.frame.DataFrame'>\n",
      "RangeIndex: 5806 entries, 0 to 5805\n",
      "Data columns (total 15 columns):\n",
      " #   Column                Non-Null Count  Dtype  \n",
      "---  ------                --------------  -----  \n",
      " 0   id                    5806 non-null   object \n",
      " 1   title                 5805 non-null   object \n",
      " 2   type                  5806 non-null   object \n",
      " 3   description           5788 non-null   object \n",
      " 4   release_year          5806 non-null   int64  \n",
      " 5   age_certification     3196 non-null   object \n",
      " 6   runtime               5806 non-null   int64  \n",
      " 7   genres                5806 non-null   object \n",
      " 8   production_countries  5806 non-null   object \n",
      " 9   seasons               2047 non-null   float64\n",
      " 10  imdb_id               5362 non-null   object \n",
      " 11  imdb_score            5283 non-null   float64\n",
      " 12  imdb_votes            5267 non-null   float64\n",
      " 13  tmdb_popularity       5712 non-null   float64\n",
      " 14  tmdb_score            5488 non-null   float64\n",
      "dtypes: float64(5), int64(2), object(8)\n",
      "memory usage: 680.5+ KB\n"
     ]
    }
   ],
   "source": [
    "df.info()"
   ]
  },
  {
   "cell_type": "markdown",
   "id": "434e54e8-73f1-4df7-a837-62285b5db67f",
   "metadata": {},
   "source": [
    "We have some columns with object type (string, list). For categorial columns like **type** with String, personal I would like to transform them to some primitive type other than String but just leave them alone and comeback when we need them. Another categorial columns we should take care of is **genres** when it's datatype Array and may need us to clean around."
   ]
  },
  {
   "cell_type": "code",
   "execution_count": 75,
   "id": "cbc72b5d-3502-46fe-a67e-54eae7414214",
   "metadata": {},
   "outputs": [
    {
     "data": {
      "text/plain": [
       "['age_certification', 'seasons']"
      ]
     },
     "execution_count": 75,
     "metadata": {},
     "output_type": "execute_result"
    }
   ],
   "source": [
    "list(set(df.columns[df.isna().mean() > 0.25]))"
   ]
  },
  {
   "cell_type": "markdown",
   "id": "1a7efa5f-3807-4489-9795-a9cf95d40816",
   "metadata": {},
   "source": [
    "Theoretically, 25 to 30% of missing value can be allowed, above this threshold we should consider the impact of these columns to our bussiness. In this case **season** can only applied on titles with **type** is SHOW. For **age_certification** is allowed in this case because not all producers tag their movies with this, we can assume these moves can be watched by everyone."
   ]
  },
  {
   "cell_type": "markdown",
   "id": "d40873f6-05ab-4315-8198-ad2fbc9b1296",
   "metadata": {
    "tags": []
   },
   "source": [
    "# Question 1\n",
    "*Which genres have the most movies?*"
   ]
  },
  {
   "cell_type": "markdown",
   "id": "fae535fa-bb95-4ab8-b904-5f386db036ac",
   "metadata": {},
   "source": [
    "Here we have mulitple value is combined to an array, in order to count by each value, we must extract these values and count them seperate on total. First we need extract all value from our DataFrame."
   ]
  },
  {
   "cell_type": "code",
   "execution_count": 56,
   "id": "121fa1a1-7a53-45e4-8538-c852a0dc390c",
   "metadata": {},
   "outputs": [
    {
     "data": {
      "text/plain": [
       "['animation',\n",
       " 'drama',\n",
       " 'horror',\n",
       " 'documentation',\n",
       " 'war',\n",
       " 'european',\n",
       " 'thriller',\n",
       " 'comedy',\n",
       " 'family',\n",
       " 'reality',\n",
       " 'fantasy',\n",
       " 'crime',\n",
       " 'action',\n",
       " 'romance',\n",
       " 'sport',\n",
       " 'scifi',\n",
       " 'western',\n",
       " 'history',\n",
       " 'music']"
      ]
     },
     "execution_count": 56,
     "metadata": {},
     "output_type": "execute_result"
    }
   ],
   "source": [
    "genres_values = df['genres'].value_counts()\n",
    "list_genres_values = []\n",
    "for val in genres_values.index.values.tolist():\n",
    "    # Due to string in numpy, we have to split value by ',' also remove empty space on our object\n",
    "    tmp = [t.replace('\\'', '').strip() for t in val[1:-1].split(',')]\n",
    "    list_genres_values += tmp\n",
    "# Convert to set to remove duplicate and empty string\n",
    "list_genres_values = list(filter(None, list(set(list_genres_values))))"
   ]
  },
  {
   "cell_type": "code",
   "execution_count": 76,
   "id": "c4946e2e-4066-470b-9bd4-962c5a14bfe3",
   "metadata": {},
   "outputs": [
    {
     "data": {
      "image/png": "[encoded data removed]",
      "text/plain": [
       "<Figure size 432x288 with 1 Axes>"
      ]
     },
     "metadata": {
      "needs_background": "light"
     },
     "output_type": "display_data"
    }
   ],
   "source": [
    "from collections import defaultdict\n",
    "genres_df = defaultdict(int)\n",
    "genres_values = df['genres'].value_counts().reset_index()\n",
    "genres_values.rename(columns={'index': 'genres', 'genres': 'count'}, inplace=True)\n",
    "for val in list_genres_values:\n",
    "    for idx in range(genres_values.shape[0]):\n",
    "        if val in df['genres'][idx]:\n",
    "            genres_df[val] += int(genres_values['count'][idx])\n",
    "genres_df = pd.DataFrame(pd.Series(genres_df)).reset_index()\n",
    "genres_df.columns = ['genres', 'count']\n",
    "genres_df.sort_values('count', ascending=False, inplace=True)\n",
    "genres_df.set_index('genres', inplace=True)\n",
    "(genres_df/genres_df.sum()).plot(kind='bar', legend=None);"
   ]
  },
  {
   "cell_type": "markdown",
   "id": "965d5d25-8e14-452a-823b-f6ce13bc9b95",
   "metadata": {},
   "source": [
    "# Question 2\n",
    "*What is the best age-certification tag for drama movies?*"
   ]
  },
  {
   "cell_type": "markdown",
   "id": "93d2119c-cfe6-4bc7-acb4-5a66e67dd23c",
   "metadata": {},
   "source": [
    "First we need to filter all movies with drama genres in it."
   ]
  },
  {
   "cell_type": "code",
   "execution_count": 79,
   "id": "45b04787-1a69-40ad-b5aa-980216f0b811",
   "metadata": {},
   "outputs": [
    {
     "data": {
      "text/plain": [
       "TV-MA    524\n",
       "R        325\n",
       "TV-14    288\n",
       "PG-13    251\n",
       "PG       119\n",
       "TV-PG     61\n",
       "G         44\n",
       "TV-Y7     30\n",
       "TV-G      19\n",
       "NC-17     10\n",
       "TV-Y       7\n",
       "Name: age_certification, dtype: int64"
      ]
     },
     "execution_count": 79,
     "metadata": {},
     "output_type": "execute_result"
    }
   ],
   "source": [
    "genres_df = df[df['genres'].str.contains('drama')]\n",
    "genres_df['age_certification'].value_counts()"
   ]
  },
  {
   "cell_type": "markdown",
   "id": "12701a29-ca0f-4d97-abc2-e24b057676c5",
   "metadata": {},
   "source": [
    "# Question 3\n",
    "*How many movies has drama factor released every year? And Does their quality increase overtime?*"
   ]
  },
  {
   "cell_type": "code",
   "execution_count": 117,
   "id": "c7aacd45-5b29-4bce-9cb7-11db250fcdd6",
   "metadata": {},
   "outputs": [
    {
     "data": {
      "text/plain": [
       "<AxesSubplot:xlabel='release_year'>"
      ]
     },
     "execution_count": 117,
     "metadata": {},
     "output_type": "execute_result"
    },
    {
     "data": {
      "image/png": "[encoded data removed]",
      "text/plain": [
       "<Figure size 432x288 with 1 Axes>"
      ]
     },
     "metadata": {
      "needs_background": "light"
     },
     "output_type": "display_data"
    }
   ],
   "source": [
    "genres_df.groupby(by='release_year')['id'].count().plot(kind='line')"
   ]
  },
  {
   "cell_type": "markdown",
   "id": "266ba50b-4613-4744-a45e-3c8780809905",
   "metadata": {},
   "source": [
    "For IMDB Score, we can fill the NaN with 0.0 and in a group with 0.0 score collected."
   ]
  },
  {
   "cell_type": "code",
   "execution_count": 125,
   "id": "cce3ebb3-3f11-4df8-849a-5a07fb40099b",
   "metadata": {},
   "outputs": [
    {
     "data": {
      "text/plain": [
       "128"
      ]
     },
     "execution_count": 125,
     "metadata": {},
     "output_type": "execute_result"
    }
   ],
   "source": [
    "genres_df = df[df['genres'].str.contains('drama')]\n",
    "genres_df['imdb_score'].isnull().values.any()\n",
    "genres_df['imdb_score'].isnull().sum()"
   ]
  },
  {
   "cell_type": "code",
   "execution_count": 128,
   "id": "5882ea53-7fee-4af0-8092-df2d7a4c7e56",
   "metadata": {},
   "outputs": [
    {
     "data": {
      "text/plain": [
       "2020    47\n",
       "2019    23\n",
       "2021    15\n",
       "2018    10\n",
       "2022     6\n",
       "2016     5\n",
       "2017     4\n",
       "2013     3\n",
       "2008     2\n",
       "2015     2\n",
       "2014     1\n",
       "1981     1\n",
       "1991     1\n",
       "2011     1\n",
       "2010     1\n",
       "2009     1\n",
       "2002     1\n",
       "2006     1\n",
       "2001     1\n",
       "1999     1\n",
       "2012     1\n",
       "Name: release_year, dtype: int64"
      ]
     },
     "execution_count": 128,
     "metadata": {},
     "output_type": "execute_result"
    }
   ],
   "source": [
    "genres_df[genres_df['imdb_score'].isnull()]['release_year'].value_counts()"
   ]
  },
  {
   "cell_type": "code",
   "execution_count": 130,
   "id": "0c62e33b-5382-4d4e-9be5-2e0096b1ab13",
   "metadata": {},
   "outputs": [
    {
     "name": "stdout",
     "output_type": "stream",
     "text": [
      "<class 'pandas.core.frame.DataFrame'>\n",
      "Int64Index: 2773 entries, 1 to 5803\n",
      "Data columns (total 15 columns):\n",
      " #   Column                Non-Null Count  Dtype  \n",
      "---  ------                --------------  -----  \n",
      " 0   id                    2773 non-null   object \n",
      " 1   title                 2773 non-null   object \n",
      " 2   type                  2773 non-null   object \n",
      " 3   description           2772 non-null   object \n",
      " 4   release_year          2773 non-null   int64  \n",
      " 5   age_certification     1625 non-null   object \n",
      " 6   runtime               2773 non-null   int64  \n",
      " 7   genres                2773 non-null   object \n",
      " 8   production_countries  2773 non-null   object \n",
      " 9   seasons               981 non-null    float64\n",
      " 10  imdb_id               2773 non-null   object \n",
      " 11  imdb_score            2773 non-null   float64\n",
      " 12  imdb_votes            2771 non-null   float64\n",
      " 13  tmdb_popularity       2739 non-null   float64\n",
      " 14  tmdb_score            2670 non-null   float64\n",
      "dtypes: float64(5), int64(2), object(8)\n",
      "memory usage: 346.6+ KB\n"
     ]
    }
   ],
   "source": [
    "new_df = genres_df[genres_df['imdb_score'].notna()]\n",
    "new_df.info()"
   ]
  },
  {
   "cell_type": "markdown",
   "id": "74e61847-41ab-4e0f-a6f6-33e8e8741e90",
   "metadata": {},
   "source": [
    "Let's check IMDB Score over years on drama genres to see if the quality of these move does improved or not."
   ]
  },
  {
   "cell_type": "code",
   "execution_count": 148,
   "id": "7342d274-522b-4c1d-b7af-03263cfb6d47",
   "metadata": {},
   "outputs": [
    {
     "data": {
      "image/png": "[encoded data removed]",
      "text/plain": [
       "<Figure size 432x288 with 2 Axes>"
      ]
     },
     "metadata": {
      "needs_background": "light"
     },
     "output_type": "display_data"
    }
   ],
   "source": [
    "fig, ax1 = plt.subplots()\n",
    "ax1.plot(new_df.groupby(by='release_year')['imdb_score'].mean(), color='red', label='imdb_score')\n",
    "ax1.tick_params(axis='y', labelcolor='red')\n",
    "ax1.set_ylabel('IMDB Score')\n",
    "ax1.set_xlabel('Years')\n",
    "ax2 = ax1.twinx()\n",
    "ax2.plot(new_df.groupby(by='release_year')['id'].count(), color='green')\n",
    "ax2.tick_params(axis='y', labelcolor='green')\n",
    "ax2.set_ylabel('Total Released')\n",
    "plt.show()"
   ]
  },
  {
   "cell_type": "code",
   "execution_count": null,
   "id": "04b189bd-4b30-4eed-9adc-90305575a1c3",
   "metadata": {},
   "outputs": [],
   "source": []
  }
 ],
 "metadata": {
  "kernelspec": {
   "display_name": "Python 3 (ipykernel)",
   "language": "python",
   "name": "python3"
  },
  "language_info": {
   "codemirror_mode": {
    "name": "ipython",
    "version": 3
   },
   "file_extension": ".py",
   "mimetype": "text/x-python",
   "name": "python",
   "nbconvert_exporter": "python",
   "pygments_lexer": "ipython3",
   "version": "3.8.10"
  }
 },
 "nbformat": 4,
 "nbformat_minor": 5
}
